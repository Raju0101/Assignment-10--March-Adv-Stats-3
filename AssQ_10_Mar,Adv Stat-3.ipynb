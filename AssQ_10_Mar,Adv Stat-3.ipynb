{
 "cells": [
  {
   "cell_type": "markdown",
   "id": "029e2201-0c1d-468d-878f-32ce9183f910",
   "metadata": {},
   "source": [
    "# Assignment 10-March, Adv Stats-3"
   ]
  },
  {
   "cell_type": "code",
   "execution_count": 1,
   "id": "1d453787-f2cc-4219-bbf0-85bd0afeec95",
   "metadata": {},
   "outputs": [],
   "source": [
    "# Q1: What is Estimation Statistics? Explain point estimate and interval estimate."
   ]
  },
  {
   "cell_type": "code",
   "execution_count": null,
   "id": "4b8ea33a-2b4b-40ee-8510-9958a76fc5e3",
   "metadata": {},
   "outputs": [],
   "source": [
    "# Estimation -  In statistics, any of numerous procedures used to calculate the value of some property of a\n",
    "# population from observations of a sample drawn from the population.\n",
    "# Estimation is the process by which the numerical value of unknown population values are \n",
    "# inferred from incomplete data, such as a sample.\n",
    "\n",
    "# point estimate ::- If a single figure is calculated for each unknown parameter, the process is called point estimation.\n",
    "\n",
    "# interval estimate :-\n",
    "# interval estimation, in statistics, the evaluation of a parameter—for example, the mean (average)—of a population \n",
    "# by computing an interval, or range of values, within which the parameter is most likely to be located."
   ]
  },
  {
   "cell_type": "code",
   "execution_count": null,
   "id": "77e30a3e-9eb5-4cd4-abf8-9f75e0111316",
   "metadata": {},
   "outputs": [],
   "source": []
  },
  {
   "cell_type": "code",
   "execution_count": 2,
   "id": "87637582-054e-45fd-836e-3714c6ff082c",
   "metadata": {},
   "outputs": [],
   "source": [
    "# Q2. Write a Python function to estimate the population mean using a sample mean and standard deviation."
   ]
  },
  {
   "cell_type": "code",
   "execution_count": null,
   "id": "e1748833-87ca-41e7-8deb-3c7ac9325833",
   "metadata": {},
   "outputs": [],
   "source": [
    "# If S is the standard deviation of the population, and n is the sample size, then the standard deviation \n",
    "# of the sample means of a sample of size n is s=S/sqrt(n), in this case, s=2."
   ]
  },
  {
   "cell_type": "code",
   "execution_count": null,
   "id": "d92bf332-4004-4aaf-921e-967dda3cd3f6",
   "metadata": {},
   "outputs": [],
   "source": []
  },
  {
   "cell_type": "code",
   "execution_count": 3,
   "id": "50a4dec7-6f05-4119-ac6c-1b198755244b",
   "metadata": {},
   "outputs": [],
   "source": [
    "# Q3: What is Hypothesis testing? Why is it used? State the importance of Hypothesis testing."
   ]
  },
  {
   "cell_type": "code",
   "execution_count": null,
   "id": "9d63c3b2-cfb8-47d0-b7ed-4457287ba8bb",
   "metadata": {},
   "outputs": [],
   "source": [
    "# Hypothesis testing :-\n",
    "# Hypothesis testing is a systematic procedure for deciding whether the results of a research study support\n",
    "# a particular theory which applies to a population. Hypothesis testing uses sample data to\n",
    "# evaluate a hypothesis about a population.\n",
    "\n",
    "# Hypothesis testing is the process used to evaluate the strength of evidence from the sample and \n",
    "# provides a framework for making determinations related to the population\n",
    "\n",
    "# importance of Hypothesis testing.:-\n",
    "# It helps to assume the probability of research failure and progress. It helps to provide link to the underlying \n",
    "# theory and specific research question. It helps in data analysis and measure the \n",
    "# validity and reliability of the research.\n",
    "\n",
    "# The most important element in a hypothesis is the prediction. It is the statement that will be tested and either proved or disproved."
   ]
  },
  {
   "cell_type": "code",
   "execution_count": null,
   "id": "64089a24-414d-41b9-94b3-e0cafb34170d",
   "metadata": {},
   "outputs": [],
   "source": [
    "\n"
   ]
  },
  {
   "cell_type": "code",
   "execution_count": null,
   "id": "505514c0-0639-4838-ace4-acf741e7c961",
   "metadata": {},
   "outputs": [],
   "source": [
    "# Q4. Create a hypothesis that states whether the average weight of male college students is greater than \n",
    "# the average weight of female college students."
   ]
  },
  {
   "cell_type": "code",
   "execution_count": null,
   "id": "780c8ce7-b267-4981-ad3b-7a865bba4bdf",
   "metadata": {},
   "outputs": [],
   "source": [
    "# Null Hypothesis (H0) = avg weights of Male  > than that of Girls\n",
    "\n",
    "# Alternate Hypothesis (H1) != (not eual to) Null Hypothesis\n",
    "\n",
    "# Experiment , Proof collected..Height, hand length, Leg Length, Fatness....These all data of Male are > Girls data\n",
    "\n",
    "# So Null Hypothesis is accepted..."
   ]
  },
  {
   "cell_type": "code",
   "execution_count": null,
   "id": "d4a0e897-f225-4b4e-9540-d147a933bd25",
   "metadata": {},
   "outputs": [],
   "source": []
  },
  {
   "cell_type": "code",
   "execution_count": null,
   "id": "63363d13-5fcf-4b3e-a5be-915437914c99",
   "metadata": {},
   "outputs": [],
   "source": [
    "# Q6: What is a null and alternative hypothesis? Give some examples."
   ]
  },
  {
   "cell_type": "code",
   "execution_count": null,
   "id": "489f6520-c2e1-4f0f-b6d7-544f5853baf8",
   "metadata": {},
   "outputs": [],
   "source": [
    "# The null and alternative hypotheses are two competing claims that researchers weigh evidence for and\n",
    "# against using a statistical test: Null hypothesis (H0): There's no effect in the population.\n",
    "# Alternative hypothesis (Ha or H1): There's an effect in the population.\n",
    "\n",
    "# Exemple -\n",
    "# Null Hypothesis H0 = The person is not guilty\n",
    "\n",
    "# Alternate Hypothesis H1 = The person is guilty"
   ]
  },
  {
   "cell_type": "code",
   "execution_count": null,
   "id": "727b9744-67ae-4176-a144-9a4a09a9826b",
   "metadata": {},
   "outputs": [],
   "source": []
  },
  {
   "cell_type": "code",
   "execution_count": 4,
   "id": "bc9692e9-5e33-4df5-9c7e-7916b8ba5ce4",
   "metadata": {},
   "outputs": [],
   "source": [
    "# Q7: Write down the steps involved in hypothesis testing."
   ]
  },
  {
   "cell_type": "code",
   "execution_count": 5,
   "id": "2dff888e-ac7f-4489-a082-f5d095041354",
   "metadata": {},
   "outputs": [],
   "source": [
    "# Step-1 ; Null Hypothesis H0 = The person is not guilty (Just assuming the person is not guilty)\n",
    "\n",
    "# Step-2 ; Alternate Hypothesis (H1) != (not eual to) Null Hypothesis or opposite of H0\n",
    "\n",
    "# Step-3;  Do Experiment , Proof collected..Based on Experiment and proof collected ..\n",
    "#    .We can accept the H0 or Reject the Ho(accept H1)"
   ]
  },
  {
   "cell_type": "code",
   "execution_count": null,
   "id": "53982059-2c1f-4117-adc3-b03753ac45c6",
   "metadata": {},
   "outputs": [],
   "source": []
  },
  {
   "cell_type": "code",
   "execution_count": 6,
   "id": "ead8174d-3b64-4825-bf81-a2e6fef5ea52",
   "metadata": {},
   "outputs": [],
   "source": [
    "# Q8. Define p-value and explain its significance in hypothesis testing."
   ]
  },
  {
   "cell_type": "code",
   "execution_count": null,
   "id": "bb6c42b9-1d27-4453-8150-1be64bacdd2d",
   "metadata": {},
   "outputs": [],
   "source": [
    "# The p value is a number, calculated from a statistical test, that describes how likely we are to have\n",
    "# found a particular set of observations if the null hypothesis were true. P values are used in hypothesis testing to help\n",
    "# decide whether to reject the null hypothesis.\n",
    "\n",
    "# The P value is defined as the probability under the assumption of no effect or no difference (null hypothesis),\n",
    "# of obtaining a result equal to or more extreme than what was actually observed. The P stands for probability \n",
    "# and measures how likely it is that any observed difference between groups is due to chance.\n",
    "\n",
    "# if the P value is 0.05, the null hypothesis has a 5% chance of being true;"
   ]
  },
  {
   "cell_type": "code",
   "execution_count": null,
   "id": "d638d537-1e0a-4b7e-9685-4bb769fff2db",
   "metadata": {},
   "outputs": [],
   "source": []
  },
  {
   "cell_type": "code",
   "execution_count": 7,
   "id": "63eebd10-03a0-4a4d-b6d7-ffa9fe7d0c21",
   "metadata": {},
   "outputs": [],
   "source": [
    "# Q9. Generate a Student's t-distribution plot using Python's matplotlib library,\n",
    "# with the degrees of freedom parameter set to 10."
   ]
  },
  {
   "cell_type": "code",
   "execution_count": 12,
   "id": "e1848d1f-d3c7-4ce1-9d1f-d55a505e5ac7",
   "metadata": {},
   "outputs": [
    {
     "data": {
      "text/plain": [
       "[<matplotlib.lines.Line2D at 0x7f9c0361add0>]"
      ]
     },
     "execution_count": 12,
     "metadata": {},
     "output_type": "execute_result"
    },
    {
     "data": {
      "image/png": "[encoded data removed]",
      "text/plain": [
       "<Figure size 640x480 with 1 Axes>"
      ]
     },
     "metadata": {},
     "output_type": "display_data"
    }
   ],
   "source": [
    "import numpy as np\n",
    "import matplotlib.pyplot as plt\n",
    "from scipy.stats import t\n",
    "\n",
    "X = np.linspace(1,10,100)\n",
    "Y = t.pdf (X, df=10)\n",
    "\n",
    "plt.plot(X,Y)\n"
   ]
  },
  {
   "cell_type": "code",
   "execution_count": null,
   "id": "f2cf35db-9b7d-4a09-a508-b31383d6e47e",
   "metadata": {},
   "outputs": [],
   "source": []
  },
  {
   "cell_type": "code",
   "execution_count": 13,
   "id": "96926d08-ea8f-4feb-903e-e0b976a814b2",
   "metadata": {},
   "outputs": [],
   "source": [
    "# Q11: What is Student’s t distribution? When to use the t-Distribution."
   ]
  },
  {
   "cell_type": "code",
   "execution_count": null,
   "id": "514881dc-2d7d-4959-a19c-9d38676ac407",
   "metadata": {},
   "outputs": [],
   "source": [
    "# The Student's t-distribution is a continuous probability distribution that is used to estimate the mean\n",
    "# of a normally distributed population when the sample size is small, and the population variance is unknown.\n",
    "\n",
    "# The t-distribution is used when data are approximately normally distributed, which means the data follow \n",
    "# a bell shape but the population variance is unknown. The variance in a t-distribution is estimated based on\n",
    "# the degrees of freedom of the data set (total number of observations minus 1)."
   ]
  },
  {
   "cell_type": "code",
   "execution_count": null,
   "id": "022d63a6-3ea0-418b-b6af-353ddceffaba",
   "metadata": {},
   "outputs": [],
   "source": []
  },
  {
   "cell_type": "code",
   "execution_count": 14,
   "id": "5bcfbf9e-774d-48d4-88c1-65d0a1637bd1",
   "metadata": {},
   "outputs": [],
   "source": [
    "# Q12: What is t-statistic? State the formula for t-statistic"
   ]
  },
  {
   "cell_type": "code",
   "execution_count": null,
   "id": "b046a243-848a-4a5e-b8b2-08c1c8d5478a",
   "metadata": {},
   "outputs": [],
   "source": [
    "# In statistics, the t-statistic is the ratio of the departure of the estimated value of a parameter from \n",
    "# its hypothesized value to its standard error."
   ]
  }
 ],
 "metadata": {
  "kernelspec": {
   "display_name": "Python 3 (ipykernel)",
   "language": "python",
   "name": "python3"
  },
  "language_info": {
   "codemirror_mode": {
    "name": "ipython",
    "version": 3
   },
   "file_extension": ".py",
   "mimetype": "text/x-python",
   "name": "python",
   "nbconvert_exporter": "python",
   "pygments_lexer": "ipython3",
   "version": "3.10.6"
  }
 },
 "nbformat": 4,
 "nbformat_minor": 5
}
